{
 "cells": [
  {
   "cell_type": "markdown",
   "metadata": {},
   "source": [
    "# 九章 KNN 教程\n"
   ]
  },
  {
   "cell_type": "code",
   "execution_count": 1,
   "metadata": {},
   "outputs": [],
   "source": [
    "import numpy as np \n",
    "import pandas as pd \n",
    "import matplotlib.pyplot as plt \n",
    "import tqdm #看进度条"
   ]
  },
  {
   "cell_type": "markdown",
   "metadata": {},
   "source": [
    "## Load data\n",
    "- use .shape to check if all the data have been successfully loaded\n",
    "- use plt.imshow to see what does data look like"
   ]
  },
  {
   "cell_type": "code",
   "execution_count": 2,
   "metadata": {
    "tags": []
   },
   "outputs": [],
   "source": [
    "data_dir = './input/'\n",
    "train_row = 5000 # 如果想取全部数据，设置为最大值 42000\n",
    "def load_data(data_dir, train_row):\n",
    "    train = pd.read_csv(data_dir + 'train.csv', sep=',', header=0)\n",
    "    X_train = train.values[:train_row, 1:]    #attributes特征, .values变成了 2d-ndarray [只读前train_row行:特征]\n",
    "    y_train = train.values[:train_row,0]  #label  \n",
    "    \n",
    "    test_data = pd.read_csv(data_dir + 'test.csv', sep=',', header=0).values   # 无label，只有特征，不用slice\n",
    "    return X_train, y_train, test_data\n",
    "\n",
    "origin_X_train, origin_y_train, test_data=load_data(data_dir, train_row)\n"
   ]
  },
  {
   "cell_type": "code",
   "execution_count": 3,
   "metadata": {
    "tags": []
   },
   "outputs": [
    {
     "output_type": "stream",
     "name": "stdout",
     "text": "(5000, 784) (5000,) (28000, 784)\n"
    }
   ],
   "source": [
    "print(origin_X_train.shape, origin_y_train.shape,test_data.shape) \n"
   ]
  },
  {
   "cell_type": "markdown",
   "metadata": {},
   "source": [
    "## Split the training data into train and valid data\n",
    "- training data: \n",
    "把原本的训练数据拆分成为20%验证集（8400个），80%训练集（33600个）\n",
    "\n"
   ]
  },
  {
   "cell_type": "code",
   "execution_count": 4,
   "metadata": {
    "tags": []
   },
   "outputs": [
    {
     "output_type": "stream",
     "name": "stdout",
     "text": "(4000, 784) (1000, 784) (4000,) (1000,)\n"
    }
   ],
   "source": [
    "from sklearn.model_selection import train_test_split\n",
    "\n",
    "X_train,X_valid, y_train, y_valid = train_test_split(origin_X_train,\n",
    "                                                   origin_y_train,\n",
    "                                                   test_size = 0.2,\n",
    "                                                   random_state = 0)\n",
    "\n",
    "print(X_train.shape, X_valid.shape, y_train.shape, y_valid.shape)"
   ]
  },
  {
   "cell_type": "code",
   "execution_count": 5,
   "metadata": {},
   "outputs": [],
   "source": [
    "        # diff=dataset-x\n",
    "        # diff_squared=diff**2\n",
    "        # # diff_squared.sum(axis=1)   # 横着加所有纵坐标数字\n",
    "        # dist=np.sqrt(diff_squared.sum(axis=1)) #vectors, 有多少个样本，这里就有多少个元素"
   ]
  },
  {
   "cell_type": "code",
   "execution_count": 6,
   "metadata": {},
   "outputs": [],
   "source": [
    "class KNN:\n",
    "    def train(self,X,y):\n",
    "        self.X_train=X\n",
    "        self.y_train=y\n",
    "    \n",
    "    def predict(self,x,k=3):\n",
    "        dataset= self.X_train\n",
    "        labels=self.y_train\n",
    "\n",
    "        \"\"\"\n",
    "        len(dist) -> 4000\n",
    "        dist.shape -> (4000,)\n",
    "        square root of a number\n",
    "        index.shape -> (4000,)\n",
    "        \"\"\"\n",
    "        dist=np.sqrt(((dataset-x)**2).sum(axis=1))\n",
    "        # print(dist)\n",
    "        # [2490.59852244 2254.96696206 2540.46885437 ... 2228.39740621 2381.15812159\n",
    "        # 2467.41970487]\n",
    "        # ...\n",
    "        index=dist.argsort()# 由小到大，得到排好序的对应的index\n",
    "        # print(index.shape)\n",
    "        # [3845 2899 3566 ...  244 3526  767]\n",
    "        # ...\n",
    "\n",
    "\n",
    "\n",
    "       #取k个距离最小的index\n",
    "        label_cnt={}\n",
    "        for i in range(k):\n",
    "            label=labels[index[i]]\n",
    "            label_cnt[label] = label_cnt.get(label,0) +1\n",
    "\n",
    "        #距离最近的k个样本中，记录每个label出现了多少次，返回最近的k个里出现次数最多的label；即得到预测的label。\n",
    "        max_cnt,res=0,0\n",
    "        for key, val in label_cnt.items():\n",
    "            if val > max_cnt:\n",
    "                max_cnt = val\n",
    "                res = key\n",
    "\n",
    "        return res \n"
   ]
  },
  {
   "cell_type": "code",
   "execution_count": 7,
   "metadata": {},
   "outputs": [],
   "source": [
    "# a=np.array([2.3,1.5,3.4,0.6])\n",
    "# a.argsort()"
   ]
  },
  {
   "cell_type": "markdown",
   "metadata": {},
   "source": [
    "## KNN训练"
   ]
  },
  {
   "cell_type": "code",
   "execution_count": 8,
   "metadata": {
    "tags": []
   },
   "outputs": [],
   "source": [
    "from sklearn.metrics import accuracy_score\n",
    "classifier=KNN()\n",
    "classifier.train(X_train, y_train)"
   ]
  },
  {
   "cell_type": "code",
   "execution_count": 9,
   "metadata": {
    "tags": []
   },
   "outputs": [
    {
     "output_type": "stream",
     "name": "stdout",
     "text": "k = 1start training\nk = 1 accuracy = 0.919\nk = 2start training\nk = 2 accuracy = 0.919\nk = 3start training\nk = 3 accuracy = 0.925\n3\n"
    }
   ],
   "source": [
    "max_accuracy,ans_k=0,0\n",
    "for k in range(1,4):\n",
    "    print(\"k = \" + str(k) + 'start training')\n",
    "    pred=[]\n",
    "\n",
    "    for i in range(X_valid.shape[0]): #1000\n",
    "        # print(X_train[i])\n",
    "        output=classifier.predict(X_valid[i],k)\n",
    "        pred.append(output)\n",
    "\n",
    "    accuracy = accuracy_score(y_valid,pred)\n",
    "    print(\"k = \" + str(k), \"accuracy = \" + str(accuracy))\n",
    "\n",
    "    if accuracy > max_accuracy:\n",
    "        max_accuracy = accuracy\n",
    "        ans_k=k\n",
    "print(ans_k)"
   ]
  },
  {
   "cell_type": "markdown",
   "metadata": {},
   "source": [
    "## 测试\n",
    "\n"
   ]
  },
  {
   "cell_type": "code",
   "execution_count": 10,
   "metadata": {
    "tags": []
   },
   "outputs": [
    {
     "output_type": "stream",
     "name": "stderr",
     "text": "100%|██████████| 300/300 [00:12<00:00, 24.02it/s]\n"
    }
   ],
   "source": [
    "k = 3\n",
    "knn=KNN()\n",
    "knn.train(X_train,y_train)\n",
    "test_data = test_data[:300]\n",
    "preds = []\n",
    "for i in tqdm.trange(300):\n",
    "    preds.append(knn.predict(test_data[i],k))\n",
    "\n"
   ]
  },
  {
   "cell_type": "code",
   "execution_count": 11,
   "metadata": {},
   "outputs": [
    {
     "output_type": "execute_result",
     "data": {
      "text/plain": "[2, 0, 9, 0, 3]"
     },
     "metadata": {},
     "execution_count": 11
    }
   ],
   "source": [
    "preds[:5]"
   ]
  },
  {
   "cell_type": "code",
   "execution_count": 12,
   "metadata": {
    "tags": []
   },
   "outputs": [
    {
     "output_type": "stream",
     "name": "stdout",
     "text": "3\n"
    },
    {
     "output_type": "display_data",
     "data": {
      "text/plain": "<Figure size 432x288 with 1 Axes>",
      "image/svg+xml": "<?xml version=\"1.0\" encoding=\"utf-8\" standalone=\"no\"?>\n<!DOCTYPE svg PUBLIC \"-//W3C//DTD SVG 1.1//EN\"\n  \"http://www.w3.org/Graphics/SVG/1.1/DTD/svg11.dtd\">\n<!-- Created with matplotlib (https://matplotlib.org/) -->\n<svg height=\"248.518125pt\" version=\"1.1\" viewBox=\"0 0 251.565 248.518125\" width=\"251.565pt\" xmlns=\"http://www.w3.org/2000/svg\" xmlns:xlink=\"http://www.w3.org/1999/xlink\">\n <defs>\n  <style type=\"text/css\">\n*{stroke-linecap:butt;stroke-linejoin:round;}\n  </style>\n </defs>\n <g id=\"figure_1\">\n  <g id=\"patch_1\">\n   <path d=\"M 0 248.518125 \nL 251.565 248.518125 \nL 251.565 0 \nL 0 0 \nz\n\" style=\"fill:none;\"/>\n  </g>\n  <g id=\"axes_1\">\n   <g id=\"patch_2\">\n    <path d=\"M 26.925 224.64 \nL 244.365 224.64 \nL 244.365 7.2 \nL 26.925 7.2 \nz\n\" style=\"fill:#ffffff;\"/>\n   </g>\n   <g clip-path=\"url(#pbd193ebc79)\">\n    <image height=\"218\" id=\"image8b52421466\" transform=\"scale(1 -1)translate(0 -218)\" width=\"218\" x=\"26.925\" xlink:href=\"data:image/png;base64,\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\" y=\"-6.64\"/>\n   </g>\n   <g id=\"matplotlib.axis_1\">\n    <g id=\"xtick_1\">\n     <g id=\"line2d_1\">\n      <defs>\n       <path d=\"M 0 0 \nL 0 3.5 \n\" id=\"m51ac0f28f1\" style=\"stroke:#000000;stroke-width:0.8;\"/>\n      </defs>\n      <g>\n       <use style=\"stroke:#000000;stroke-width:0.8;\" x=\"30.807857\" xlink:href=\"#m51ac0f28f1\" y=\"224.64\"/>\n      </g>\n     </g>\n     <g id=\"text_1\">\n      <!-- 0 -->\n      <defs>\n       <path d=\"M 31.78125 66.40625 \nQ 24.171875 66.40625 20.328125 58.90625 \nQ 16.5 51.421875 16.5 36.375 \nQ 16.5 21.390625 20.328125 13.890625 \nQ 24.171875 6.390625 31.78125 6.390625 \nQ 39.453125 6.390625 43.28125 13.890625 \nQ 47.125 21.390625 47.125 36.375 \nQ 47.125 51.421875 43.28125 58.90625 \nQ 39.453125 66.40625 31.78125 66.40625 \nz\nM 31.78125 74.21875 \nQ 44.046875 74.21875 50.515625 64.515625 \nQ 56.984375 54.828125 56.984375 36.375 \nQ 56.984375 17.96875 50.515625 8.265625 \nQ 44.046875 -1.421875 31.78125 -1.421875 \nQ 19.53125 -1.421875 13.0625 8.265625 \nQ 6.59375 17.96875 6.59375 36.375 \nQ 6.59375 54.828125 13.0625 64.515625 \nQ 19.53125 74.21875 31.78125 74.21875 \nz\n\" id=\"DejaVuSans-48\"/>\n      </defs>\n      <g transform=\"translate(27.626607 239.238437)scale(0.1 -0.1)\">\n       <use xlink:href=\"#DejaVuSans-48\"/>\n      </g>\n     </g>\n    </g>\n    <g id=\"xtick_2\">\n     <g id=\"line2d_2\">\n      <g>\n       <use style=\"stroke:#000000;stroke-width:0.8;\" x=\"69.636429\" xlink:href=\"#m51ac0f28f1\" y=\"224.64\"/>\n      </g>\n     </g>\n     <g id=\"text_2\">\n      <!-- 5 -->\n      <defs>\n       <path d=\"M 10.796875 72.90625 \nL 49.515625 72.90625 \nL 49.515625 64.59375 \nL 19.828125 64.59375 \nL 19.828125 46.734375 \nQ 21.96875 47.46875 24.109375 47.828125 \nQ 26.265625 48.1875 28.421875 48.1875 \nQ 40.625 48.1875 47.75 41.5 \nQ 54.890625 34.8125 54.890625 23.390625 \nQ 54.890625 11.625 47.5625 5.09375 \nQ 40.234375 -1.421875 26.90625 -1.421875 \nQ 22.3125 -1.421875 17.546875 -0.640625 \nQ 12.796875 0.140625 7.71875 1.703125 \nL 7.71875 11.625 \nQ 12.109375 9.234375 16.796875 8.0625 \nQ 21.484375 6.890625 26.703125 6.890625 \nQ 35.15625 6.890625 40.078125 11.328125 \nQ 45.015625 15.765625 45.015625 23.390625 \nQ 45.015625 31 40.078125 35.4375 \nQ 35.15625 39.890625 26.703125 39.890625 \nQ 22.75 39.890625 18.8125 39.015625 \nQ 14.890625 38.140625 10.796875 36.28125 \nz\n\" id=\"DejaVuSans-53\"/>\n      </defs>\n      <g transform=\"translate(66.455179 239.238437)scale(0.1 -0.1)\">\n       <use xlink:href=\"#DejaVuSans-53\"/>\n      </g>\n     </g>\n    </g>\n    <g id=\"xtick_3\">\n     <g id=\"line2d_3\">\n      <g>\n       <use style=\"stroke:#000000;stroke-width:0.8;\" x=\"108.465\" xlink:href=\"#m51ac0f28f1\" y=\"224.64\"/>\n      </g>\n     </g>\n     <g id=\"text_3\">\n      <!-- 10 -->\n      <defs>\n       <path d=\"M 12.40625 8.296875 \nL 28.515625 8.296875 \nL 28.515625 63.921875 \nL 10.984375 60.40625 \nL 10.984375 69.390625 \nL 28.421875 72.90625 \nL 38.28125 72.90625 \nL 38.28125 8.296875 \nL 54.390625 8.296875 \nL 54.390625 0 \nL 12.40625 0 \nz\n\" id=\"DejaVuSans-49\"/>\n      </defs>\n      <g transform=\"translate(102.1025 239.238437)scale(0.1 -0.1)\">\n       <use xlink:href=\"#DejaVuSans-49\"/>\n       <use x=\"63.623047\" xlink:href=\"#DejaVuSans-48\"/>\n      </g>\n     </g>\n    </g>\n    <g id=\"xtick_4\">\n     <g id=\"line2d_4\">\n      <g>\n       <use style=\"stroke:#000000;stroke-width:0.8;\" x=\"147.293571\" xlink:href=\"#m51ac0f28f1\" y=\"224.64\"/>\n      </g>\n     </g>\n     <g id=\"text_4\">\n      <!-- 15 -->\n      <g transform=\"translate(140.931071 239.238437)scale(0.1 -0.1)\">\n       <use xlink:href=\"#DejaVuSans-49\"/>\n       <use x=\"63.623047\" xlink:href=\"#DejaVuSans-53\"/>\n      </g>\n     </g>\n    </g>\n    <g id=\"xtick_5\">\n     <g id=\"line2d_5\">\n      <g>\n       <use style=\"stroke:#000000;stroke-width:0.8;\" x=\"186.122143\" xlink:href=\"#m51ac0f28f1\" y=\"224.64\"/>\n      </g>\n     </g>\n     <g id=\"text_5\">\n      <!-- 20 -->\n      <defs>\n       <path d=\"M 19.1875 8.296875 \nL 53.609375 8.296875 \nL 53.609375 0 \nL 7.328125 0 \nL 7.328125 8.296875 \nQ 12.9375 14.109375 22.625 23.890625 \nQ 32.328125 33.6875 34.8125 36.53125 \nQ 39.546875 41.84375 41.421875 45.53125 \nQ 43.3125 49.21875 43.3125 52.78125 \nQ 43.3125 58.59375 39.234375 62.25 \nQ 35.15625 65.921875 28.609375 65.921875 \nQ 23.96875 65.921875 18.8125 64.3125 \nQ 13.671875 62.703125 7.8125 59.421875 \nL 7.8125 69.390625 \nQ 13.765625 71.78125 18.9375 73 \nQ 24.125 74.21875 28.421875 74.21875 \nQ 39.75 74.21875 46.484375 68.546875 \nQ 53.21875 62.890625 53.21875 53.421875 \nQ 53.21875 48.921875 51.53125 44.890625 \nQ 49.859375 40.875 45.40625 35.40625 \nQ 44.1875 33.984375 37.640625 27.21875 \nQ 31.109375 20.453125 19.1875 8.296875 \nz\n\" id=\"DejaVuSans-50\"/>\n      </defs>\n      <g transform=\"translate(179.759643 239.238437)scale(0.1 -0.1)\">\n       <use xlink:href=\"#DejaVuSans-50\"/>\n       <use x=\"63.623047\" xlink:href=\"#DejaVuSans-48\"/>\n      </g>\n     </g>\n    </g>\n    <g id=\"xtick_6\">\n     <g id=\"line2d_6\">\n      <g>\n       <use style=\"stroke:#000000;stroke-width:0.8;\" x=\"224.950714\" xlink:href=\"#m51ac0f28f1\" y=\"224.64\"/>\n      </g>\n     </g>\n     <g id=\"text_6\">\n      <!-- 25 -->\n      <g transform=\"translate(218.588214 239.238437)scale(0.1 -0.1)\">\n       <use xlink:href=\"#DejaVuSans-50\"/>\n       <use x=\"63.623047\" xlink:href=\"#DejaVuSans-53\"/>\n      </g>\n     </g>\n    </g>\n   </g>\n   <g id=\"matplotlib.axis_2\">\n    <g id=\"ytick_1\">\n     <g id=\"line2d_7\">\n      <defs>\n       <path d=\"M 0 0 \nL -3.5 0 \n\" id=\"mda0d90c80e\" style=\"stroke:#000000;stroke-width:0.8;\"/>\n      </defs>\n      <g>\n       <use style=\"stroke:#000000;stroke-width:0.8;\" x=\"26.925\" xlink:href=\"#mda0d90c80e\" y=\"11.082857\"/>\n      </g>\n     </g>\n     <g id=\"text_7\">\n      <!-- 0 -->\n      <g transform=\"translate(13.5625 14.882076)scale(0.1 -0.1)\">\n       <use xlink:href=\"#DejaVuSans-48\"/>\n      </g>\n     </g>\n    </g>\n    <g id=\"ytick_2\">\n     <g id=\"line2d_8\">\n      <g>\n       <use style=\"stroke:#000000;stroke-width:0.8;\" x=\"26.925\" xlink:href=\"#mda0d90c80e\" y=\"49.911429\"/>\n      </g>\n     </g>\n     <g id=\"text_8\">\n      <!-- 5 -->\n      <g transform=\"translate(13.5625 53.710647)scale(0.1 -0.1)\">\n       <use xlink:href=\"#DejaVuSans-53\"/>\n      </g>\n     </g>\n    </g>\n    <g id=\"ytick_3\">\n     <g id=\"line2d_9\">\n      <g>\n       <use style=\"stroke:#000000;stroke-width:0.8;\" x=\"26.925\" xlink:href=\"#mda0d90c80e\" y=\"88.74\"/>\n      </g>\n     </g>\n     <g id=\"text_9\">\n      <!-- 10 -->\n      <g transform=\"translate(7.2 92.539219)scale(0.1 -0.1)\">\n       <use xlink:href=\"#DejaVuSans-49\"/>\n       <use x=\"63.623047\" xlink:href=\"#DejaVuSans-48\"/>\n      </g>\n     </g>\n    </g>\n    <g id=\"ytick_4\">\n     <g id=\"line2d_10\">\n      <g>\n       <use style=\"stroke:#000000;stroke-width:0.8;\" x=\"26.925\" xlink:href=\"#mda0d90c80e\" y=\"127.568571\"/>\n      </g>\n     </g>\n     <g id=\"text_10\">\n      <!-- 15 -->\n      <g transform=\"translate(7.2 131.36779)scale(0.1 -0.1)\">\n       <use xlink:href=\"#DejaVuSans-49\"/>\n       <use x=\"63.623047\" xlink:href=\"#DejaVuSans-53\"/>\n      </g>\n     </g>\n    </g>\n    <g id=\"ytick_5\">\n     <g id=\"line2d_11\">\n      <g>\n       <use style=\"stroke:#000000;stroke-width:0.8;\" x=\"26.925\" xlink:href=\"#mda0d90c80e\" y=\"166.397143\"/>\n      </g>\n     </g>\n     <g id=\"text_11\">\n      <!-- 20 -->\n      <g transform=\"translate(7.2 170.196362)scale(0.1 -0.1)\">\n       <use xlink:href=\"#DejaVuSans-50\"/>\n       <use x=\"63.623047\" xlink:href=\"#DejaVuSans-48\"/>\n      </g>\n     </g>\n    </g>\n    <g id=\"ytick_6\">\n     <g id=\"line2d_12\">\n      <g>\n       <use style=\"stroke:#000000;stroke-width:0.8;\" x=\"26.925\" xlink:href=\"#mda0d90c80e\" y=\"205.225714\"/>\n      </g>\n     </g>\n     <g id=\"text_12\">\n      <!-- 25 -->\n      <g transform=\"translate(7.2 209.024933)scale(0.1 -0.1)\">\n       <use xlink:href=\"#DejaVuSans-50\"/>\n       <use x=\"63.623047\" xlink:href=\"#DejaVuSans-53\"/>\n      </g>\n     </g>\n    </g>\n   </g>\n   <g id=\"patch_3\">\n    <path d=\"M 26.925 224.64 \nL 26.925 7.2 \n\" style=\"fill:none;stroke:#000000;stroke-linecap:square;stroke-linejoin:miter;stroke-width:0.8;\"/>\n   </g>\n   <g id=\"patch_4\">\n    <path d=\"M 244.365 224.64 \nL 244.365 7.2 \n\" style=\"fill:none;stroke:#000000;stroke-linecap:square;stroke-linejoin:miter;stroke-width:0.8;\"/>\n   </g>\n   <g id=\"patch_5\">\n    <path d=\"M 26.925 224.64 \nL 244.365 224.64 \n\" style=\"fill:none;stroke:#000000;stroke-linecap:square;stroke-linejoin:miter;stroke-width:0.8;\"/>\n   </g>\n   <g id=\"patch_6\">\n    <path d=\"M 26.925 7.2 \nL 244.365 7.2 \n\" style=\"fill:none;stroke:#000000;stroke-linecap:square;stroke-linejoin:miter;stroke-width:0.8;\"/>\n   </g>\n  </g>\n </g>\n <defs>\n  <clipPath id=\"pbd193ebc79\">\n   <rect height=\"217.44\" width=\"217.44\" x=\"26.925\" y=\"7.2\"/>\n  </clipPath>\n </defs>\n</svg>\n",
      "image/png": "[encoded data removed]"
     },
     "metadata": {
      "needs_background": "light"
     }
    }
   ],
   "source": [
    "idx=4\n",
    "print(preds[idx])\n",
    "plt.imshow(test_data[idx].reshape(28,28))\n",
    "plt.show()"
   ]
  },
  {
   "cell_type": "code",
   "execution_count": 13,
   "metadata": {},
   "outputs": [],
   "source": [
    "out_file=open('predictions.csv','w')\n",
    "out_file.write('ImageId, Label\\n')\n",
    "for i in range(len(preds)):\n",
    "    out_file.write(str(i+1)+',' + str(pred[i]) + '\\n')\n",
    "out_file.close()"
   ]
  },
  {
   "cell_type": "code",
   "execution_count": 14,
   "metadata": {},
   "outputs": [],
   "source": [
    "# pd.DataFrame({\"ImageId\": list(range(1,len(y_pred)+1)),\"Label\": y_pred}).to_csv('Digit_Recogniser_Result.csv', index=False,header=True)pd.DataFrame({\"ImageId\": list(range(1,len(y_pred)+1)),\"Label\": y_pred}).to_csv('Digit_Recogniser_Result.csv', index=False,header=True)"
   ]
  },
  {
   "cell_type": "markdown",
   "metadata": {},
   "source": [
    "## Source:\n",
    "- https://www.kaggle.com/c/digit-recognizer\n",
    "\n",
    "\n"
   ]
  }
 ],
 "metadata": {
  "language_info": {
   "codemirror_mode": {
    "name": "ipython",
    "version": 3
   },
   "file_extension": ".py",
   "mimetype": "text/x-python",
   "name": "python",
   "nbconvert_exporter": "python",
   "pygments_lexer": "ipython3",
   "version": "3.7.7-final"
  },
  "orig_nbformat": 2,
  "kernelspec": {
   "name": "python37464bit4037ffa4320643d3a3b641096dac783a",
   "display_name": "Python 3.7.4 64-bit"
  }
 },
 "nbformat": 4,
 "nbformat_minor": 2
}